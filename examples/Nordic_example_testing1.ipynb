{
 "cells": [
  {
   "cell_type": "markdown",
   "metadata": {},
   "source": [
    "#### Load lib"
   ]
  },
  {
   "cell_type": "code",
   "execution_count": 1,
   "metadata": {},
   "outputs": [],
   "source": [
    "import numpy as np\n",
    "import PyRAMSES"
   ]
  },
  {
   "cell_type": "markdown",
   "metadata": {},
   "source": [
    "#### Load Models"
   ]
  },
  {
   "cell_type": "code",
   "execution_count": 2,
   "metadata": {},
   "outputs": [],
   "source": [
    "from examples_models import end_simulation\n",
    "from examples_models import move_file\n",
    "from examples_models import sfc"
   ]
  },
  {
   "cell_type": "markdown",
   "metadata": {},
   "source": [
    "#### Load a simulator instance"
   ]
  },
  {
   "cell_type": "code",
   "execution_count": 3,
   "metadata": {},
   "outputs": [],
   "source": [
    "ram = PyRAMSES.sim()"
   ]
  },
  {
   "cell_type": "markdown",
   "metadata": {},
   "source": [
    "#### Load saved test-case & Add more observation(s)"
   ]
  },
  {
   "cell_type": "code",
   "execution_count": 4,
   "metadata": {},
   "outputs": [],
   "source": [
    "case = PyRAMSES.cfg('cmd.txt')  \n",
    "case.addRunObs('MS g2')  # will plot a frequency-time diagram by bus g2\n",
    "#case.addRunObs('BPO g6-1042')  # will plot a power (power output)-time diagram by g6\n",
    "#case.addRunObs('BPO g7-1043')  # will plot a power (power output)-time diagram by g7\n",
    "#case.addRunObs('BPO g14-4042')  # will plot a power (power output)-time diagram by g14\n",
    "#case.addRunObs('BPO g15-4047')  # will plot a power (power output)-time diagram by g15\n",
    "#case.addRunObs('BPO g16-4051')  # will plot a power (power output)-time diagram by g16"
   ]
  },
  {
   "cell_type": "markdown",
   "metadata": {},
   "source": [
    "#### Testing using one group of kp & ki & td"
   ]
  },
  {
   "cell_type": "code",
   "execution_count": 5,
   "metadata": {},
   "outputs": [
    {
     "name": "stdout",
     "output_type": "stream",
     "text": [
      "kp = 90.10\n",
      "ki = 0.10\n",
      "td = 0.01\n",
      "kill gnuplot successfully\n",
      "endSim() successfully\n",
      "delete ram & case successfully\n",
      "re-write cur successfully\n",
      "copy cur successfully\n",
      "rename cur successfully\n",
      "delete temp_display(_).cur successfully\n",
      "delete trace: cont, disc, init, output successfully\n",
      "\n"
     ]
    }
   ],
   "source": [
    "if __name__ == '__main__':\n",
    "    \n",
    "    '''parameters\n",
    "    Args:\n",
    "        flagTd (string): flag whether communication delays are the same or not\n",
    "        prepared_folder_address (string): cur files' new folder (the folder is parallel with ../examples)\n",
    "        breaker (string): the name of generator you want to disconnection\n",
    "        monitor (string): through it get the frequency of the system\n",
    "        list_of_gens: whose power will be changed to increase/decrease the frequency in the sys\n",
    "        weight_of_gens: defined how much a selected generator should output (according to Pnom)\n",
    "        agcTimeStep: time step\n",
    "    '''\n",
    "\n",
    "    ######### parameters #########\n",
    "    start_time = 150.0\n",
    "    end_time = 1100.0  # (dst file)\n",
    "    agcTimeStep = 1.0\n",
    "    monitor = ['g2']\n",
    "    breaker = 'g8'  # (dst file)\n",
    "    list_of_gens = ['g6', 'g7', 'g14', 'g15', 'g16']\n",
    "    weight_of_gens = [8,16,32/7,8/3,32/7]  # (dny_A.dat)\n",
    "    prepared_folder_address = 'D:/OneDrive - University of Leeds/Nordic/6.1/'\n",
    "\n",
    "    #### tuning delay (td) & kp & ki:\n",
    "    flagTd = 'ones'\n",
    "    \n",
    "    kp = 30.1\n",
    "    ki = 0.1\n",
    "    td = 0.01\n",
    "    list_of_td = td * np.ones(5)\n",
    "    \n",
    "    kp = \"{0:.2f}\".format(round(float(kp),2))\n",
    "    ki = \"{0:.2f}\".format(round(float(ki),2))\n",
    "    td = \"{0:.2f}\".format(round(float(td),2))\n",
    "    \n",
    "    print(\"kp = \" + str(kp))\n",
    "    print(\"ki = \" + str(ki))\n",
    "    print(\"td = \" + str(td))\n",
    "    \n",
    "    sfc(ram, case, start_time, end_time, agcTimeStep, monitor, kp, ki, list_of_gens, weight_of_gens, list_of_td, prepared_folder_address, breaker, flagTd)"
   ]
  },
  {
   "cell_type": "code",
   "execution_count": null,
   "metadata": {},
   "outputs": [],
   "source": []
  }
 ],
 "metadata": {
  "kernelspec": {
   "display_name": "Python 3",
   "language": "python",
   "name": "python3"
  },
  "language_info": {
   "codemirror_mode": {
    "name": "ipython",
    "version": 3
   },
   "file_extension": ".py",
   "mimetype": "text/x-python",
   "name": "python",
   "nbconvert_exporter": "python",
   "pygments_lexer": "ipython3",
   "version": "3.7.3"
  }
 },
 "nbformat": 4,
 "nbformat_minor": 2
}
