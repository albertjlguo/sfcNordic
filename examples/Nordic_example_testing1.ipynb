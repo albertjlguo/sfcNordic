{
 "cells": [
  {
   "cell_type": "markdown",
   "metadata": {},
   "source": [
    "#### Load lib"
   ]
  },
  {
   "cell_type": "code",
   "execution_count": null,
   "metadata": {},
   "outputs": [],
   "source": [
    "import numpy as np\n",
    "import PyRAMSES"
   ]
  },
  {
   "cell_type": "markdown",
   "metadata": {},
   "source": [
    "#### Load Models"
   ]
  },
  {
   "cell_type": "code",
   "execution_count": null,
   "metadata": {},
   "outputs": [],
   "source": [
    "from examples_models import end_simulation\n",
    "from examples_models import move_file\n",
    "from examples_models import sfc"
   ]
  },
  {
   "cell_type": "markdown",
   "metadata": {},
   "source": [
    "#### Load a simulator instance"
   ]
  },
  {
   "cell_type": "code",
   "execution_count": null,
   "metadata": {},
   "outputs": [],
   "source": [
    "ram = PyRAMSES.sim()"
   ]
  },
  {
   "cell_type": "markdown",
   "metadata": {},
   "source": [
    "#### Load saved test-case & Add more observation(s)"
   ]
  },
  {
   "cell_type": "code",
   "execution_count": null,
   "metadata": {},
   "outputs": [],
   "source": [
    "case = PyRAMSES.cfg('cmd.txt')  \n",
    "case.addRunObs('MS g2')  # will plot a frequency-time diagram by bus g2\n",
    "case.addRunObs('BPO g6-1042')  # will plot a power (power output)-time diagram by g6\n",
    "case.addRunObs('BPO g7-1043')  # will plot a power (power output)-time diagram by g7\n",
    "case.addRunObs('BPO g14-4042')  # will plot a power (power output)-time diagram by g14\n",
    "case.addRunObs('BPO g15-4047')  # will plot a power (power output)-time diagram by g15\n",
    "case.addRunObs('BPO g16-4051')  # will plot a power (power output)-time diagram by g16"
   ]
  },
  {
   "cell_type": "markdown",
   "metadata": {},
   "source": [
    "#### Testing using one group of kp & ki & td"
   ]
  },
  {
   "cell_type": "code",
   "execution_count": null,
   "metadata": {},
   "outputs": [],
   "source": [
    "if __name__ == '__main__':\n",
    "    \n",
    "    '''parameters\n",
    "    Args:\n",
    "        flagTd (string): flag whether communication delays are the same or not\n",
    "        prepared_folder_address (string): cur files' new folder (the folder is parallel with ../examples)\n",
    "        breaker (string): the name of generator you want to disconnection\n",
    "        monitor (string): through it get the frequency of the system\n",
    "        list_of_gens: whose power will be changed to increase/decrease the frequency in the sys\n",
    "        weight_of_gens: defined how much a selected generator should output (according to Pnom)\n",
    "        agcTimeStep: time step\n",
    "    '''\n",
    "\n",
    "    ######### parameters #########\n",
    "    prepared_folder_address = 'C:/Users/el17jg/Desktop/GitHub/Nordic-test-system/analysis/g8_emergency_control' \n",
    "    start_time=15.0\n",
    "    end_time = 240.0\n",
    "    agcTimeStep = 1.0\n",
    "    monitor = ['g2']\n",
    "    breaker = 'g8'  # (dst file)\n",
    "\n",
    "\n",
    "    ######### running sfc #########\n",
    "    flagTd = 'ones'\n",
    "    \n",
    "    #### tuning delay (td) & kp & ki:\n",
    "    list_of_gens = ['g6', 'g7', 'g14', 'g15', 'g16']\n",
    "    weight_of_gens = [8,16,32/7,8/3,32/7]\n",
    "    \n",
    "    kp = 35.1\n",
    "    ki = 0.1\n",
    "    td = 0.01\n",
    "    list_of_td = td * np.ones(5)\n",
    "    \n",
    "    kp = \"{0:.2f}\".format(round(float(kp),2))\n",
    "    ki = \"{0:.2f}\".format(round(float(ki),2))\n",
    "    td = \"{0:.2f}\".format(round(float(td),2))\n",
    "    print(\"kp = \" + str(kp))\n",
    "    print(\"ki = \" + str(ki))\n",
    "    print(\"td = \" + str(td))\n",
    "    \n",
    "    sfc(ram, case, start_time, end_time, agcTimeStep, monitor, kp, ki, list_of_gens, weight_of_gens, list_of_td, prepared_folder_address, breaker, flagTd)"
   ]
  },
  {
   "cell_type": "code",
   "execution_count": null,
   "metadata": {},
   "outputs": [],
   "source": []
  }
 ],
 "metadata": {
  "kernelspec": {
   "display_name": "Python 3",
   "language": "python",
   "name": "python3"
  },
  "language_info": {
   "codemirror_mode": {
    "name": "ipython",
    "version": 3
   },
   "file_extension": ".py",
   "mimetype": "text/x-python",
   "name": "python",
   "nbconvert_exporter": "python",
   "pygments_lexer": "ipython3",
   "version": "3.6.8"
  }
 },
 "nbformat": 4,
 "nbformat_minor": 2
}
