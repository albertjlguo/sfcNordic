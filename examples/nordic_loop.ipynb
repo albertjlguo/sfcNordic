{
 "cells": [
  {
   "cell_type": "markdown",
   "metadata": {},
   "source": [
    "## Load lib"
   ]
  },
  {
   "cell_type": "code",
   "execution_count": null,
   "metadata": {},
   "outputs": [],
   "source": [
    "import numpy as np\n",
    "import pyramses"
   ]
  },
  {
   "cell_type": "markdown",
   "metadata": {},
   "source": [
    "## Load Models"
   ]
  },
  {
   "cell_type": "code",
   "execution_count": null,
   "metadata": {},
   "outputs": [],
   "source": [
    "from models import end_simulation\n",
    "from models import move_file\n",
    "from models import sfc\n",
    "from models import Gens\n",
    "from models import sortGens"
   ]
  },
  {
   "cell_type": "markdown",
   "metadata": {},
   "source": [
    "## Load a simulator instance"
   ]
  },
  {
   "cell_type": "code",
   "execution_count": null,
   "metadata": {},
   "outputs": [],
   "source": [
    "ram = pyramses.sim()"
   ]
  },
  {
   "cell_type": "markdown",
   "metadata": {},
   "source": [
    "## Load saved test-case & Add more observation(s)"
   ]
  },
  {
   "cell_type": "code",
   "execution_count": null,
   "metadata": {},
   "outputs": [],
   "source": [
    "case = pyramses.cfg('cmd.txt')  \n",
    "case.addRunObs('MS g2')  # will plot a frequency-time diagram by bus g2\n",
    "monitor = ['g2']"
   ]
  },
  {
   "cell_type": "markdown",
   "metadata": {},
   "source": [
    "## Universe Parameters (relative fixed)"
   ]
  },
  {
   "cell_type": "code",
   "execution_count": null,
   "metadata": {},
   "outputs": [],
   "source": [
    "liST = []\n",
    "list_of_gens = []\n",
    "weight_of_gens = []\n",
    "list_of_td = []\n",
    "prepared_folder_address = 'cur'\n",
    "start_time = 150.0\n",
    "end_time = 600.0  # (dst file)\n",
    "agcTimeStep = 1.0"
   ]
  },
  {
   "cell_type": "markdown",
   "metadata": {},
   "source": [
    "## Breaker (one of distrubances) & Selected generators (to help fix errors)"
   ]
  },
  {
   "cell_type": "code",
   "execution_count": null,
   "metadata": {},
   "outputs": [],
   "source": [
    "breaker = 'g8'  # (dst file)\n",
    "          \n",
    "g6 = Gens('g6', 1/8, 0.01)\n",
    "g7 = Gens('g7', 1/16, 0.02)\n",
    "g14 = Gens('g14', 7/32, 0.03)\n",
    "g15 = Gens('g15', 3/8, 0.04)\n",
    "g16 = Gens('g16', 7/32, 0.05)  \n",
    "liST.append(g6)\n",
    "liST.append(g7)\n",
    "liST.append(g14)\n",
    "liST.append(g15)\n",
    "liST.append(g16)\n",
    "\n",
    "sortGens(liST, list_of_gens, weight_of_gens, list_of_td)\n",
    "\n",
    "\n",
    "#list_of_gens = ['g6', 'g7', 'g14', 'g15', 'g16']\n",
    "#weight_of_gens = [1/8,1/16,7/32,3/8,7/32]  # (ref. dny_A.dat)\n",
    "#list_of_td = [0.01, 0.02, 0.03, 0.04, 0.05]"
   ]
  },
  {
   "cell_type": "markdown",
   "metadata": {},
   "source": [
    "## Test with fixed kp and ki"
   ]
  },
  {
   "cell_type": "code",
   "execution_count": null,
   "metadata": {},
   "outputs": [],
   "source": [
    "if __name__ == '__main__':\n",
    "    for kp in np.arange(1.1, 2.2, 1.0):     # [1.1, 2.2), step: 1\n",
    "        for ki in np.arange(0.1, 0.2, 0.5):\n",
    "    \n",
    "            kp = \"{0:.2f}\".format(round(float(kp),2))\n",
    "            ki = \"{0:.2f}\".format(round(float(ki),2))\n",
    "            print(\"kp = \" + str(kp))\n",
    "            print(\"ki = \" + str(ki))\n",
    "\n",
    "            sfc(ram, case, monitor, list_of_gens, weight_of_gens, list_of_td, prepared_folder_address, start_time, end_time, agcTimeStep, breaker, kp, ki)"
   ]
  }
 ],
 "metadata": {
  "kernelspec": {
   "display_name": "Python 3",
   "language": "python",
   "name": "python3"
  },
  "language_info": {
   "codemirror_mode": {
    "name": "ipython",
    "version": 3
   },
   "file_extension": ".py",
   "mimetype": "text/x-python",
   "name": "python",
   "nbconvert_exporter": "python",
   "pygments_lexer": "ipython3",
   "version": "3.7.3"
  }
 },
 "nbformat": 4,
 "nbformat_minor": 4
}
