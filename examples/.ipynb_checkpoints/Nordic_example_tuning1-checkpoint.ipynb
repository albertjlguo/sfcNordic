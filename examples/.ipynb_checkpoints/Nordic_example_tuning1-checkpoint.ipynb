{
 "cells": [
  {
   "cell_type": "markdown",
   "metadata": {},
   "source": [
    "### Load lib"
   ]
  },
  {
   "cell_type": "code",
   "execution_count": 1,
   "metadata": {},
   "outputs": [],
   "source": [
    "import numpy as np\n",
    "import PyRAMSES"
   ]
  },
  {
   "cell_type": "markdown",
   "metadata": {},
   "source": [
    "#### Load Models"
   ]
  },
  {
   "cell_type": "code",
   "execution_count": 2,
   "metadata": {},
   "outputs": [],
   "source": [
    "from examples_models import end_simulation\n",
    "from examples_models import move_file\n",
    "from examples_models import sfc"
   ]
  },
  {
   "cell_type": "markdown",
   "metadata": {},
   "source": [
    "#### Load a simulator instance"
   ]
  },
  {
   "cell_type": "code",
   "execution_count": 3,
   "metadata": {},
   "outputs": [],
   "source": [
    "ram = PyRAMSES.sim()"
   ]
  },
  {
   "cell_type": "markdown",
   "metadata": {},
   "source": [
    "#### Load saved test-case & Add more observation(s)"
   ]
  },
  {
   "cell_type": "code",
   "execution_count": 4,
   "metadata": {},
   "outputs": [
    {
     "name": "stdout",
     "output_type": "stream",
     "text": [
      "RAMSESWarning: The file init.trace already exists. It will be overwritten!\n",
      "RAMSESWarning: The file cont.trace already exists. It will be overwritten!\n",
      "RAMSESWarning: The file disc.trace already exists. It will be overwritten!\n"
     ]
    }
   ],
   "source": [
    "case = PyRAMSES.cfg('cmd.txt')  \n",
    "case.addRunObs('MS g2')  # will plot a frequency-time diagram by bus g2\n",
    "#case.addRunObs('BPO g6-1042')  # will plot a power (power output)-time diagram by g6\n",
    "#case.addRunObs('BPO g7-1043')  # will plot a power (power output)-time diagram by g7\n",
    "#case.addRunObs('BPO g14-4042')  # will plot a power (power output)-time diagram by g14\n",
    "#case.addRunObs('BPO g15-4047')  # will plot a power (power output)-time diagram by g15\n",
    "#case.addRunObs('BPO g16-4051')  # will plot a power (power output)-time diagram by g16"
   ]
  },
  {
   "cell_type": "markdown",
   "metadata": {},
   "source": [
    "### Tuning"
   ]
  },
  {
   "cell_type": "code",
   "execution_count": 5,
   "metadata": {},
   "outputs": [
    {
     "name": "stdout",
     "output_type": "stream",
     "text": [
      "kp = 0.10\n",
      "ki = 0.10\n",
      "td = 0.01\n",
      "kill gnuplot successfully\n",
      "endSim() successfully\n",
      "delete ram & case successfully\n",
      "re-write cur successfully\n",
      "copy cur successfully\n",
      "rename cur successfully\n",
      "delete temp_display(_).cur successfully\n",
      "kp = 0.10\n",
      "ki = 1.10\n",
      "td = 0.01\n",
      "kill gnuplot successfully\n",
      "endSim() successfully\n",
      "delete ram & case successfully\n",
      "re-write cur successfully\n",
      "copy cur successfully\n",
      "rename cur successfully\n",
      "delete temp_display(_).cur successfully\n",
      "kp = 0.10\n",
      "ki = 2.10\n",
      "td = 0.01\n",
      "RAMSES error => break, ready to kill gnuplot\n",
      "kill gnuplot successfully\n",
      "skip endSim()\n",
      "delete ram & case successfully\n",
      "re-write cur successfully\n",
      "copy cur successfully\n",
      "rename cur successfully\n",
      "delete temp_display(_).cur successfully\n",
      "kp = 0.10\n",
      "ki = 3.10\n",
      "td = 0.01\n",
      "RAMSES error => break, ready to kill gnuplot\n",
      "kill gnuplot successfully\n",
      "skip endSim()\n",
      "delete ram & case successfully\n",
      "re-write cur successfully\n",
      "copy cur successfully\n",
      "rename cur successfully\n",
      "delete temp_display(_).cur successfully\n",
      "kp = 0.10\n",
      "ki = 4.10\n",
      "td = 0.01\n",
      "RAMSES error => break, ready to kill gnuplot\n",
      "kill gnuplot successfully\n",
      "skip endSim()\n",
      "delete ram & case successfully\n",
      "re-write cur successfully\n",
      "copy cur successfully\n",
      "rename cur successfully\n",
      "delete temp_display(_).cur successfully\n",
      "kp = 0.10\n",
      "ki = 5.10\n",
      "td = 0.01\n",
      "RAMSES error => break, ready to kill gnuplot\n",
      "kill gnuplot successfully\n",
      "skip endSim()\n",
      "delete ram & case successfully\n",
      "re-write cur successfully\n",
      "copy cur successfully\n",
      "rename cur successfully\n",
      "delete temp_display(_).cur successfully\n",
      "kp = 0.10\n",
      "ki = 6.10\n",
      "td = 0.01\n",
      "RAMSES error => break, ready to kill gnuplot\n",
      "kill gnuplot successfully\n",
      "skip endSim()\n",
      "delete ram & case successfully\n",
      "re-write cur successfully\n",
      "copy cur successfully\n",
      "rename cur successfully\n",
      "delete temp_display(_).cur successfully\n",
      "kp = 0.10\n",
      "ki = 7.10\n",
      "td = 0.01\n",
      "RAMSES error => break, ready to kill gnuplot\n",
      "kill gnuplot successfully\n",
      "skip endSim()\n",
      "delete ram & case successfully\n",
      "re-write cur successfully\n",
      "copy cur successfully\n",
      "rename cur successfully\n",
      "delete temp_display(_).cur successfully\n",
      "kp = 0.10\n",
      "ki = 8.10\n",
      "td = 0.01\n",
      "flag = 1: cannot start simulation\n"
     ]
    },
    {
     "ename": "KeyboardInterrupt",
     "evalue": "",
     "output_type": "error",
     "traceback": [
      "\u001b[1;31m---------------------------------------------------------------------------\u001b[0m",
      "\u001b[1;31mKeyboardInterrupt\u001b[0m                         Traceback (most recent call last)",
      "\u001b[1;32m<ipython-input-5-f727e8c26d24>\u001b[0m in \u001b[0;36m<module>\u001b[1;34m\u001b[0m\n\u001b[0;32m     40\u001b[0m \u001b[1;33m\u001b[0m\u001b[0m\n\u001b[0;32m     41\u001b[0m                 \u001b[1;31m#### Run sfc:\u001b[0m\u001b[1;33m\u001b[0m\u001b[1;33m\u001b[0m\u001b[1;33m\u001b[0m\u001b[0m\n\u001b[1;32m---> 42\u001b[1;33m                 \u001b[0msfc\u001b[0m\u001b[1;33m(\u001b[0m\u001b[0mram\u001b[0m\u001b[1;33m,\u001b[0m \u001b[0mcase\u001b[0m\u001b[1;33m,\u001b[0m \u001b[0mstart_time\u001b[0m\u001b[1;33m,\u001b[0m \u001b[0mend_time\u001b[0m\u001b[1;33m,\u001b[0m \u001b[0magcTimeStep\u001b[0m\u001b[1;33m,\u001b[0m \u001b[0mmonitor\u001b[0m\u001b[1;33m,\u001b[0m \u001b[0mkp\u001b[0m\u001b[1;33m,\u001b[0m \u001b[0mki\u001b[0m\u001b[1;33m,\u001b[0m \u001b[0mlist_of_gens\u001b[0m\u001b[1;33m,\u001b[0m \u001b[0mweight_of_gens\u001b[0m\u001b[1;33m,\u001b[0m \u001b[0mlist_of_td\u001b[0m\u001b[1;33m,\u001b[0m \u001b[0mprepared_folder_address\u001b[0m\u001b[1;33m,\u001b[0m \u001b[0mbreaker\u001b[0m\u001b[1;33m,\u001b[0m \u001b[0mflagTd\u001b[0m\u001b[1;33m)\u001b[0m\u001b[1;33m\u001b[0m\u001b[1;33m\u001b[0m\u001b[0m\n\u001b[0m\u001b[0;32m     43\u001b[0m                 \u001b[1;32mpass\u001b[0m\u001b[1;33m\u001b[0m\u001b[1;33m\u001b[0m\u001b[0m\n\u001b[0;32m     44\u001b[0m             \u001b[1;32mpass\u001b[0m\u001b[1;33m\u001b[0m\u001b[1;33m\u001b[0m\u001b[0m\n",
      "\u001b[1;32m~\\Desktop\\GitHub\\Nordic-test-system\\examples\\examples_models.py\u001b[0m in \u001b[0;36msfc\u001b[1;34m(ram, case, start_time, end_time, agcTimeStep, monitor, kp, ki, list_of_gens, weight_of_gens, list_of_td, prepared_folder_address, breaker, flagTd)\u001b[0m\n\u001b[0;32m     95\u001b[0m \u001b[1;33m\u001b[0m\u001b[0m\n\u001b[0;32m     96\u001b[0m         \u001b[1;31m######### end simulation & move files: #########\u001b[0m\u001b[1;33m\u001b[0m\u001b[1;33m\u001b[0m\u001b[1;33m\u001b[0m\u001b[0m\n\u001b[1;32m---> 97\u001b[1;33m         \u001b[0mend_simulation\u001b[0m\u001b[1;33m(\u001b[0m\u001b[0mram\u001b[0m\u001b[1;33m,\u001b[0m \u001b[0mcase\u001b[0m\u001b[1;33m,\u001b[0m \u001b[0mflag\u001b[0m\u001b[1;33m)\u001b[0m\u001b[1;33m\u001b[0m\u001b[1;33m\u001b[0m\u001b[0m\n\u001b[0m\u001b[0;32m     98\u001b[0m         \u001b[0mmove_file\u001b[0m\u001b[1;33m(\u001b[0m\u001b[0mprepared_folder_address\u001b[0m\u001b[1;33m,\u001b[0m \u001b[0mflagTd\u001b[0m\u001b[1;33m,\u001b[0m \u001b[0mbreaker\u001b[0m\u001b[1;33m,\u001b[0m \u001b[0mkp\u001b[0m\u001b[1;33m,\u001b[0m \u001b[0mki\u001b[0m\u001b[1;33m,\u001b[0m \u001b[0mlist_of_gens\u001b[0m\u001b[1;33m,\u001b[0m \u001b[0mlist_of_td\u001b[0m\u001b[1;33m)\u001b[0m\u001b[1;33m\u001b[0m\u001b[1;33m\u001b[0m\u001b[0m\n\u001b[0;32m     99\u001b[0m \u001b[1;33m\u001b[0m\u001b[0m\n",
      "\u001b[1;32m~\\Desktop\\GitHub\\Nordic-test-system\\examples\\examples_models.py\u001b[0m in \u001b[0;36mend_simulation\u001b[1;34m(ram, case, flag)\u001b[0m\n\u001b[0;32m    114\u001b[0m \u001b[1;33m\u001b[0m\u001b[0m\n\u001b[0;32m    115\u001b[0m                 \u001b[1;31m# kill gnuplot ('$CALL_GP F;')\u001b[0m\u001b[1;33m\u001b[0m\u001b[1;33m\u001b[0m\u001b[1;33m\u001b[0m\u001b[0m\n\u001b[1;32m--> 116\u001b[1;33m                 \u001b[0mos\u001b[0m\u001b[1;33m.\u001b[0m\u001b[0msystem\u001b[0m\u001b[1;33m(\u001b[0m\u001b[1;34m\"TASKKILL /F /IM gnuplot.exe /T\"\u001b[0m\u001b[1;33m)\u001b[0m\u001b[1;33m\u001b[0m\u001b[1;33m\u001b[0m\u001b[0m\n\u001b[0m\u001b[0;32m    117\u001b[0m                 \u001b[0mprint\u001b[0m\u001b[1;33m(\u001b[0m\u001b[1;34m\"kill gnuplot successfully: no-simulation\"\u001b[0m\u001b[1;33m)\u001b[0m\u001b[1;33m\u001b[0m\u001b[1;33m\u001b[0m\u001b[0m\n\u001b[0;32m    118\u001b[0m \u001b[1;33m\u001b[0m\u001b[0m\n",
      "\u001b[1;31mKeyboardInterrupt\u001b[0m: "
     ]
    }
   ],
   "source": [
    "if __name__ == '__main__':\n",
    "    \n",
    "    '''parameters\n",
    "    Args:\n",
    "        flagTd (string): flag whether communication delays are the same or not\n",
    "        prepared_folder_address (string): cur files' new folder (the folder is parallel with ../examples)\n",
    "        breaker (string): the name of generator you want to disconnection\n",
    "        monitor (string): through it get the frequency of the system\n",
    "        list_of_gens: whose power will be changed to increase/decrease the frequency in the sys\n",
    "        weight_of_gens: defined how much a selected generator should output (according to Pnom)\n",
    "        agcTimeStep: time step\n",
    "    '''\n",
    "\n",
    "    ######### parameters #########\n",
    "    start_time=150.0\n",
    "    end_time = 900.0\n",
    "    agcTimeStep = 1.0\n",
    "    monitor = ['g2']\n",
    "    breaker = 'g9'  # (dst file)\n",
    "    prepared_folder_address = 'D:/OneDrive - University of Leeds/Nordic/4.1.3/a' \n",
    "    \n",
    "    ######### running sfc #########\n",
    "    flagTd = 'ones'\n",
    "\n",
    "    #### tuning delay & kp & ki:\n",
    "    list_of_gens = ['g6', 'g7', 'g14', 'g15', 'g16']\n",
    "    weight_of_gens = [8,16,32/7,8/3,32/7]\n",
    "    \n",
    "    for td in np.arange(0.01, 0.02, 0.01):  # td: 0.01\n",
    "        list_of_td = td * np.ones(5)\n",
    "        for kp in np.arange(0.1, 300.2, 50.0):  # kp: 0.1~300.1, step: 50.0\n",
    "            for ki in np.arange(0.1, 300.2, 50.0):  # ki: 0.1~300.1, step: 50.0\n",
    "                \n",
    "                kp = \"{0:.2f}\".format(round(float(kp),2))\n",
    "                ki = \"{0:.2f}\".format(round(float(ki),2))\n",
    "                td = \"{0:.2f}\".format(round(float(td),2))\n",
    "                print(\"kp = \" + str(kp))\n",
    "                print(\"ki = \" + str(ki))\n",
    "                print(\"td = \" + str(td))\n",
    "\n",
    "                #### Run sfc:\n",
    "                sfc(ram, case, start_time, end_time, agcTimeStep, monitor, kp, ki, list_of_gens, weight_of_gens, list_of_td, prepared_folder_address, breaker, flagTd)\n",
    "                pass\n",
    "            pass"
   ]
  }
 ],
 "metadata": {
  "kernelspec": {
   "display_name": "Python 3",
   "language": "python",
   "name": "python3"
  },
  "language_info": {
   "codemirror_mode": {
    "name": "ipython",
    "version": 3
   },
   "file_extension": ".py",
   "mimetype": "text/x-python",
   "name": "python",
   "nbconvert_exporter": "python",
   "pygments_lexer": "ipython3",
   "version": "3.7.3"
  }
 },
 "nbformat": 4,
 "nbformat_minor": 2
}
