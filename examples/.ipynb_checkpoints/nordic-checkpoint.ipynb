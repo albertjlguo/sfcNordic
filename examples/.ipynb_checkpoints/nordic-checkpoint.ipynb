{
 "cells": [
  {
   "cell_type": "markdown",
   "metadata": {},
   "source": [
    "## Load lib"
   ]
  },
  {
   "cell_type": "code",
   "execution_count": 1,
   "metadata": {},
   "outputs": [],
   "source": [
    "import numpy as np\n",
    "import pyramses"
   ]
  },
  {
   "cell_type": "markdown",
   "metadata": {},
   "source": [
    "## Load Models"
   ]
  },
  {
   "cell_type": "code",
   "execution_count": 2,
   "metadata": {},
   "outputs": [],
   "source": [
    "from models import end_simulation\n",
    "from models import move_file\n",
    "from models import sfc"
   ]
  },
  {
   "cell_type": "markdown",
   "metadata": {},
   "source": [
    "## Load a simulator instance"
   ]
  },
  {
   "cell_type": "code",
   "execution_count": 3,
   "metadata": {},
   "outputs": [],
   "source": [
    "ram = pyramses.sim()"
   ]
  },
  {
   "cell_type": "markdown",
   "metadata": {},
   "source": [
    "## Load saved test-case & Add more observation(s)"
   ]
  },
  {
   "cell_type": "code",
   "execution_count": 4,
   "metadata": {},
   "outputs": [
    {
     "name": "stdout",
     "output_type": "stream",
     "text": [
      "RAMSESWarning: The file obs.trj already exists. It will be overwritten!\n"
     ]
    }
   ],
   "source": [
    "case = pyramses.cfg('cmd.txt')  \n",
    "case.addRunObs('MS g2')  # will plot a frequency-time diagram by bus g2\n",
    "monitor = ['g2']"
   ]
  },
  {
   "cell_type": "markdown",
   "metadata": {},
   "source": [
    "## Universe Parameters (relative fixed)"
   ]
  },
  {
   "cell_type": "code",
   "execution_count": 5,
   "metadata": {},
   "outputs": [],
   "source": [
    "prepared_folder_address = 'cur'\n",
    "start_time = 150.0\n",
    "end_time = 1100.0  # (dst file)\n",
    "agcTimeStep = 1.0"
   ]
  },
  {
   "cell_type": "markdown",
   "metadata": {},
   "source": [
    "## Breaker (one of distrubances) & Selected generators (to help fix errors)"
   ]
  },
  {
   "cell_type": "code",
   "execution_count": 6,
   "metadata": {},
   "outputs": [],
   "source": [
    "breaker = 'g8'  # (dst file)\n",
    "\n",
    "list_of_gens = ['g6', 'g7', 'g14', 'g15', 'g16']\n",
    "weight_of_gens = [1/8,1/16,7/32,3/8,7/32]  # (ref. dny_A.dat)\n",
    "list_of_td = [0.01, 0.02, 0.03, 0.04, 0.05]"
   ]
  },
  {
   "cell_type": "markdown",
   "metadata": {},
   "source": [
    "## Test with fixed kp and ki"
   ]
  },
  {
   "cell_type": "code",
   "execution_count": 7,
   "metadata": {},
   "outputs": [
    {
     "name": "stdout",
     "output_type": "stream",
     "text": [
      "kp = 10.10\n",
      "ki = 0.10\n",
      "Showing generators' delay(s):\n",
      "g6: 0.01s\n",
      "g7: 0.02s\n",
      "g14: 0.03s\n",
      "g15: 0.04s\n",
      "g16: 0.05s\n",
      "kill gnuplot successfully\n",
      "endSim() successfully\n",
      "delete ram & case successfully\n",
      "re-write cur successfully\n",
      "copy cur successfully\n",
      "delete temp_display(_).cur successfully\n",
      "delete some trace files successfully\n",
      "\n"
     ]
    }
   ],
   "source": [
    "if __name__ == '__main__':\n",
    "    kp = 10.1\n",
    "    ki = 0.1    \n",
    "    kp = \"{0:.2f}\".format(round(float(kp),2))\n",
    "    ki = \"{0:.2f}\".format(round(float(ki),2))\n",
    "    \n",
    "    print(\"kp = \" + str(kp))\n",
    "    print(\"ki = \" + str(ki))\n",
    "    \n",
    "    \n",
    "    print(\"Showing generators' delay(s):\")\n",
    "    i = 0\n",
    "    while i < len(list_of_gens):\n",
    "        strTd = \"{0:.2f}\".format(list_of_td[i],2)\n",
    "        text = str(list_of_gens[i]) + ': ' + strTd + 's'\n",
    "        print(text)\n",
    "        i += 1\n",
    "\n",
    "    #### Run sfc:\n",
    "    sfc(ram, case, monitor, list_of_gens, weight_of_gens, list_of_td, prepared_folder_address, start_time, end_time, agcTimeStep, breaker, kp, ki)\n"
   ]
  },
  {
   "cell_type": "markdown",
   "metadata": {},
   "source": [
    "## Embed the frequency/voltage response in the output\n",
    "**https://pyramses.paristidou.info/_modules/pyramses/extractor.html#extractor.getSync**"
   ]
  },
  {
   "cell_type": "code",
   "execution_count": 8,
   "metadata": {},
   "outputs": [],
   "source": [
    "ext = pyramses.extractor(case.getTrj())"
   ]
  },
  {
   "cell_type": "markdown",
   "metadata": {},
   "source": [
    "### Check frequency in the grid via monitor"
   ]
  },
  {
   "cell_type": "code",
   "execution_count": 9,
   "metadata": {},
   "outputs": [
    {
     "data": {
      "image/png": "[encoded data removed]",
      "text/plain": [
       "<Figure size 432x288 with 1 Axes>"
      ]
     },
     "metadata": {
      "needs_background": "light"
     },
     "output_type": "display_data"
    }
   ],
   "source": [
    "ext.getSync('g2').S.plot()"
   ]
  },
  {
   "cell_type": "markdown",
   "metadata": {},
   "source": [
    "### Power of g6 (Snom = 400 MW)"
   ]
  },
  {
   "cell_type": "code",
   "execution_count": 10,
   "metadata": {},
   "outputs": [
    {
     "data": {
      "image/png": "[encoded data removed]",
      "text/plain": [
       "<Figure size 432x288 with 1 Axes>"
      ]
     },
     "metadata": {
      "needs_background": "light"
     },
     "output_type": "display_data"
    }
   ],
   "source": [
    "ext.getSync('g6').P.plot()"
   ]
  },
  {
   "cell_type": "code",
   "execution_count": 11,
   "metadata": {},
   "outputs": [],
   "source": [
    "# ext.getSync('g6').P"
   ]
  }
 ],
 "metadata": {
  "kernelspec": {
   "display_name": "Python 3",
   "language": "python",
   "name": "python3"
  },
  "language_info": {
   "codemirror_mode": {
    "name": "ipython",
    "version": 3
   },
   "file_extension": ".py",
   "mimetype": "text/x-python",
   "name": "python",
   "nbconvert_exporter": "python",
   "pygments_lexer": "ipython3",
   "version": "3.7.3"
  }
 },
 "nbformat": 4,
 "nbformat_minor": 4
}
