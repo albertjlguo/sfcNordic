{
 "cells": [
  {
   "cell_type": "markdown",
   "metadata": {},
   "source": [
    "#### Load lib"
   ]
  },
  {
   "cell_type": "code",
   "execution_count": 1,
   "metadata": {},
   "outputs": [],
   "source": [
    "import numpy as np"
   ]
  },
  {
   "cell_type": "code",
   "execution_count": 2,
   "metadata": {},
   "outputs": [],
   "source": [
    "%run example_models.ipynb"
   ]
  },
  {
   "cell_type": "markdown",
   "metadata": {},
   "source": [
    "#### Testing using one group of kp & ki & td"
   ]
  },
  {
   "cell_type": "code",
   "execution_count": 3,
   "metadata": {},
   "outputs": [
    {
     "name": "stdout",
     "output_type": "stream",
     "text": [
      "RAMSES error => break, ready to kill gnuplot\n",
      "kill gnuplot successfully\n",
      "skip endSim()\n",
      "delete ram & case successfully\n",
      "re-write cur successfully\n",
      "copy cur successfully\n",
      "rename cur successfully\n",
      "delete temp_display(_).cur successfully\n",
      "delete trace: cont, disc, init, output successfully\n",
      "\n",
      "RAMSESWarning: Simulator with number 1 was deleted.\n"
     ]
    }
   ],
   "source": [
    "if __name__ == '__main__':\n",
    "    \n",
    "    '''parameters\n",
    "    Args:\n",
    "        prepared_folder_address (string): cur files' new folder (the folder is parallel with ../examples)\n",
    "        breaker (string): the name of generator you want to disconnection\n",
    "        monitor (string): through it get the frequency of the system\n",
    "        list_of_gens: whose power will be changed to increase/decrease the frequency in the sys\n",
    "        weight_of_gens: defined how much a selected generator should output (according to Pnom)\n",
    "        agcTimeStep: time step\n",
    "    '''\n",
    "\n",
    "    ######### parameters #########\n",
    "    prepared_folder_address = '../cur' \n",
    "    breaker = 'g8'  # (dst file)\n",
    "    monitor = ['g2']\n",
    "    list_of_gens = ['g6', 'g7', 'g14', 'g15', 'g16']\n",
    "    weight_of_gens = [8,16,32/7,8/3,32/7]\n",
    "    agcTimeStep = 1.0     \n",
    "\n",
    "\n",
    "    ######### running sfc #########\n",
    "    kp = 0.00\n",
    "    ki = 0.00\n",
    "    td = 0.01\n",
    "    kp = \"{0:.2f}\".format(round(float(kp),2))\n",
    "    ki = \"{0:.2f}\".format(round(float(ki),2))\n",
    "    td = \"{0:.2f}\".format(round(float(td),2))\n",
    "    sfc(kp, ki, td)"
   ]
  },
  {
   "cell_type": "code",
   "execution_count": null,
   "metadata": {},
   "outputs": [],
   "source": []
  }
 ],
 "metadata": {
  "kernelspec": {
   "display_name": "Python 3",
   "language": "python",
   "name": "python3"
  },
  "language_info": {
   "codemirror_mode": {
    "name": "ipython",
    "version": 3
   },
   "file_extension": ".py",
   "mimetype": "text/x-python",
   "name": "python",
   "nbconvert_exporter": "python",
   "pygments_lexer": "ipython3",
   "version": "3.7.3"
  }
 },
 "nbformat": 4,
 "nbformat_minor": 2
}
