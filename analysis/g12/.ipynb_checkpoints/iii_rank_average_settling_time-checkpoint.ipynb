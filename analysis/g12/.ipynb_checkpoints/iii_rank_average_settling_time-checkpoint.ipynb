{
 "cells": [
  {
   "cell_type": "code",
   "execution_count": 1,
   "metadata": {},
   "outputs": [],
   "source": [
    "import numpy as np\n",
    "import pandas as pd\n",
    "import csv"
   ]
  },
  {
   "cell_type": "code",
   "execution_count": 2,
   "metadata": {},
   "outputs": [],
   "source": [
    "kp = []\n",
    "ki = []\n",
    "settling_time = []"
   ]
  },
  {
   "cell_type": "code",
   "execution_count": null,
   "metadata": {},
   "outputs": [],
   "source": [
    "with open('ori.csv', 'r') as f:\n",
    "    reader = csv.reader(f)\n",
    "    datas = list(reader)"
   ]
  },
  {
   "cell_type": "code",
   "execution_count": null,
   "metadata": {},
   "outputs": [],
   "source": [
    "for float_kp in np.arange(0.1, 325.2, 5):\n",
    "    for float_ki in np.arange(0.1, 25.1, 5):\n",
    "\n",
    "        print(\"------------------------------------------------------\")\n",
    "        float_kp = \"{0:.2f}\".format(round(float_kp,2))\n",
    "        float_kp = float(float_kp)\n",
    "        print(\"kp = \" + str(float_kp))\n",
    "        float_ki = \"{0:.2f}\".format(round(float_ki,2))\n",
    "        float_ki = float(float_ki)\n",
    "        print(\"ki = \" + str(float_ki))\n",
    "\n",
    "        i = 0\n",
    "        settlingTime = 0.0\n",
    "        for data in datas:\n",
    "            if data[0] == str(float_kp) and data[1] == str(float_ki):\n",
    "                i += 1\n",
    "                print(\"\\ni = \" + str(i) + \":\")\n",
    "                print(\"Delay = \" + data[2] + \"sec\")\n",
    "                try:\n",
    "                    print(\"Single settling time = \" + data[3])\n",
    "                    settlingTime += float(data[3])\n",
    "                except ValueError:\n",
    "                    print(\"Single settling time = empty => 999999\")\n",
    "                    settlingTime += 999999\n",
    "                print(\"Accumulative settling time = \" + str(settlingTime))\n",
    "\n",
    "        print(\"i = \" + str(i))\n",
    "        if i == 0:\n",
    "            settlingTime = 999999\n",
    "        else:\n",
    "            settlingTime = settlingTime/i\n",
    "            settlingTime = \"{0:.4f}\".format(round(settlingTime,4))\n",
    "            settlingTime = float(settlingTime)\n",
    "        print(\"Average settling time = \" + str(settlingTime) + \"\\n\")\n",
    "        kp.append(float_kp)\n",
    "        ki.append(float_ki)\n",
    "        settling_time.append(settlingTime)"
   ]
  },
  {
   "cell_type": "code",
   "execution_count": null,
   "metadata": {},
   "outputs": [],
   "source": [
    "print(kp)\n",
    "print(ki)\n",
    "print(settling_time"
   ]
  },
  {
   "cell_type": "code",
   "execution_count": null,
   "metadata": {},
   "outputs": [],
   "source": [
    "raw_data = {'kp': kp, 'ki': ki, 'Average Settling Time (sec)': settling_time}\n",
    "df = pd.DataFrame(raw_data, columns = ['kp', 'ki', 'Average Settling Time (sec)'])\n",
    "df.to_csv('rank_average_settling_time.csv')"
   ]
  }
 ],
 "metadata": {
  "kernelspec": {
   "display_name": "Python 3",
   "language": "python",
   "name": "python3"
  },
  "language_info": {
   "codemirror_mode": {
    "name": "ipython",
    "version": 3
   },
   "file_extension": ".py",
   "mimetype": "text/x-python",
   "name": "python",
   "nbconvert_exporter": "python",
   "pygments_lexer": "ipython3",
   "version": "3.7.3"
  }
 },
 "nbformat": 4,
 "nbformat_minor": 2
}
