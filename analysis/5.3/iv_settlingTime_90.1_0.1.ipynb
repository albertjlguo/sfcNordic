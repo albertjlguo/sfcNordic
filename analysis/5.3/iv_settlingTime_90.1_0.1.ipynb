{
 "cells": [
  {
   "cell_type": "code",
   "execution_count": 1,
   "metadata": {},
   "outputs": [],
   "source": [
    "import numpy as np\n",
    "import pandas as pd\n",
    "import csv"
   ]
  },
  {
   "cell_type": "code",
   "execution_count": 2,
   "metadata": {},
   "outputs": [],
   "source": [
    "with open('ori.csv', 'r') as f:\n",
    "    reader = csv.reader(f)\n",
    "    datas = list(reader)"
   ]
  },
  {
   "cell_type": "code",
   "execution_count": 3,
   "metadata": {},
   "outputs": [],
   "source": [
    "best_kp = 90.10\n",
    "best_ki = 0.10"
   ]
  },
  {
   "cell_type": "code",
   "execution_count": 4,
   "metadata": {},
   "outputs": [],
   "source": [
    "kp = []\n",
    "ki = []\n",
    "delay = []\n",
    "settling_time = []"
   ]
  },
  {
   "cell_type": "code",
   "execution_count": 5,
   "metadata": {},
   "outputs": [],
   "source": [
    "for data in datas:\n",
    "    if data[0] == str(best_kp) and data[1] == str(best_ki):\n",
    "        settlingTime = float(data[3])\n",
    "        settlingTime = \"{0:.4f}\".format(round(settlingTime,4))\n",
    "        settlingTime = float(settlingTime)\n",
    "        settling_time.append(settlingTime)\n",
    "\n",
    "        d = float(data[2])  #delay\n",
    "        d = \"{0:.2f}\".format(round(d,2))\n",
    "        d = float(d)\n",
    "        delay.append(d)\n",
    "\n",
    "        kp.append(best_kp)\n",
    "        ki.append(best_ki)"
   ]
  },
  {
   "cell_type": "code",
   "execution_count": 6,
   "metadata": {},
   "outputs": [
    {
     "name": "stdout",
     "output_type": "stream",
     "text": [
      "[90.1, 90.1, 90.1]\n",
      "[0.1, 0.1, 0.1]\n",
      "[0.01, 0.11, 0.21]\n",
      "[183.3838, 161.3908, 183.6038]\n"
     ]
    }
   ],
   "source": [
    "print(kp)\n",
    "print(ki)\n",
    "print(delay)\n",
    "print(settling_time)"
   ]
  },
  {
   "cell_type": "code",
   "execution_count": 7,
   "metadata": {},
   "outputs": [],
   "source": [
    "raw_data = {'kp': kp, 'ki': ki, 'delay (sec)': delay, 'Settling Time (sec)': settling_time}\n",
    "df = pd.DataFrame(raw_data, columns = ['kp', 'ki', 'delay (sec)', 'Settling Time (sec)'])\n",
    "df.to_excel('settlingTime_' + str(best_kp) + '_' + str(best_ki) + '.xlsx')"
   ]
  },
  {
   "cell_type": "code",
   "execution_count": null,
   "metadata": {},
   "outputs": [],
   "source": []
  }
 ],
 "metadata": {
  "kernelspec": {
   "display_name": "Python 3",
   "language": "python",
   "name": "python3"
  },
  "language_info": {
   "codemirror_mode": {
    "name": "ipython",
    "version": 3
   },
   "file_extension": ".py",
   "mimetype": "text/x-python",
   "name": "python",
   "nbconvert_exporter": "python",
   "pygments_lexer": "ipython3",
   "version": "3.6.8"
  }
 },
 "nbformat": 4,
 "nbformat_minor": 2
}
