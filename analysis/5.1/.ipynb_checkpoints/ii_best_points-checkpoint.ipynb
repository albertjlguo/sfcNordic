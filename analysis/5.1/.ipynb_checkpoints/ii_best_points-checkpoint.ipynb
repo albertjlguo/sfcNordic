{
 "cells": [
  {
   "cell_type": "markdown",
   "metadata": {},
   "source": [
    "#### Load lib"
   ]
  },
  {
   "cell_type": "code",
   "execution_count": 1,
   "metadata": {},
   "outputs": [],
   "source": [
    "import pandas as pd\n",
    "import numpy as np"
   ]
  },
  {
   "cell_type": "code",
   "execution_count": 2,
   "metadata": {},
   "outputs": [],
   "source": [
    "kp = []\n",
    "ki = []\n",
    "delay = []\n",
    "settlingTime = []"
   ]
  },
  {
   "cell_type": "code",
   "execution_count": 3,
   "metadata": {},
   "outputs": [
    {
     "name": "stdout",
     "output_type": "stream",
     "text": [
      "0.01\n",
      "min = 187.6424\n",
      "0.02\n",
      "min = 187.662\n",
      "0.03\n",
      "min = 187.682\n",
      "0.04\n",
      "min = 187.6974\n",
      "0.05\n",
      "min = 187.7166\n",
      "0.06\n",
      "min = 187.8117\n",
      "0.07\n",
      "min = 187.8362\n",
      "0.08\n",
      "min = 187.7582\n",
      "0.09\n",
      "min = 187.7822\n",
      "0.10\n",
      "min = 187.7578\n",
      "0.11\n",
      "min = 188.0664\n",
      "0.12\n",
      "min = 187.8478\n",
      "0.13\n",
      "min = 187.8747\n",
      "0.14\n",
      "min = 192.5449\n",
      "0.15\n",
      "min = 192.8905\n",
      "0.16\n",
      "min = 192.9087\n",
      "0.17\n",
      "min = 197.5307\n",
      "0.18\n",
      "min = 194.6341\n",
      "0.19\n",
      "min = 194.6641\n",
      "0.20\n",
      "min = 197.2904\n",
      "0.21\n",
      "min = 198.7817\n"
     ]
    }
   ],
   "source": [
    "'''Best kp & ki under the different delays conditions\n",
    "Args:\n",
    "    kp, ki, delay, settlingTime (list): save the best kp, ki and their delay & settlingTime\n",
    "    breaker (string): disconnected generator\n",
    "    delayValue (float): used as index to search xlsx file, e.g.: td_0.01s.xlsx\n",
    "    address (string): where the xlsx saved at\n",
    "    d1~d4 (pandas list): saving column 1~4 of xlsx files\n",
    "    xn1~4 (list): transfer to numpy list\n",
    "    nonZero_settlingTime (list): saving settling time (non-zero, just in case) under the different delays conditions\n",
    "    min_col4 (string, float): min settling time under the different delays conditions\n",
    "    raw_data (ndarray), df (object): pandas DataFrame\n",
    "\n",
    "'''\n",
    "\n",
    "breaker = 'g9'\n",
    "for delayValue in np.arange(0.01, 0.22, 0.01):\n",
    "    delayValue = \"{0:.2f}\".format(round(delayValue,2))\n",
    "    print(delayValue)\n",
    "\n",
    "    address = 'td_' + delayValue + 's.xlsx'\n",
    "    #print(address)\n",
    "\n",
    "    d1 = pd.read_excel(address, skiprows=0, usecols=[0]) # column 1\n",
    "    xn1 = np.matrix(np.array(d1).tolist())\n",
    "\n",
    "    d2 = pd.read_excel(address, skiprows=0, usecols=[1]) # column 2\n",
    "    xn2 = np.matrix(np.array(d2).tolist())\n",
    "\n",
    "    d3 = pd.read_excel(address, skiprows=0, usecols=[2]) # column 3\n",
    "    xn3 = np.matrix(np.array(d3).tolist())\n",
    "\n",
    "    d4 = pd.read_excel(address, skiprows=0, usecols=[3]) # column 4\n",
    "    xn4 = np.matrix(np.array(d4).tolist())\n",
    "\n",
    "    '''find min settling time under the different delays conditions\n",
    "    '''\n",
    "    nonZero_settlingTime = []\n",
    "    for n in range(len(d4)):\n",
    "        d = xn4[n,0]\n",
    "        d = \"{0:.4f}\".format(round(d,4))\n",
    "        d = float(d)\n",
    "        if str(d) != 'nan':\n",
    "            # print(d)\n",
    "            nonZero_settlingTime.append(d)\n",
    "\n",
    "    min_col4 = min(nonZero_settlingTime)\n",
    "    min_col4 = \"{0:.4f}\".format(round(min_col4,4))\n",
    "    min_col4 = float(min_col4)\n",
    "    print(\"min = \" + str(min_col4))\n",
    "\n",
    "    '''find min settling time's kp, ki, delay\n",
    "    '''\n",
    "    for n in range(len(d4)):\n",
    "        d = xn4[n,0]\n",
    "        d = \"{0:.4f}\".format(round(d,4))\n",
    "        # d = float(d)\n",
    "        #print(d)\n",
    "        if float(d) == min_col4:\n",
    "            # print(\"index = \" + str(n))\n",
    "            a = xn1[n,0]\n",
    "            a = \"{0:.2f}\".format(round(a,2))\n",
    "            a = float(a)\n",
    "            b = xn2[n,0]\n",
    "            b = \"{0:.2f}\".format(round(b,2))\n",
    "            b = float(b)\n",
    "            c = xn3[n,0]\n",
    "            c = \"{0:.2f}\".format(round(c,2))\n",
    "            c = float(c)\n",
    "            d = float(d)\n",
    "            kp.append(a)\n",
    "            ki.append(b)\n",
    "            delay.append(c)\n",
    "            settlingTime.append(d)"
   ]
  },
  {
   "cell_type": "code",
   "execution_count": 4,
   "metadata": {},
   "outputs": [
    {
     "name": "stdout",
     "output_type": "stream",
     "text": [
      "[130.1, 130.1, 130.1, 130.1, 130.1, 120.1, 120.1, 120.1, 120.1, 120.1, 120.1, 120.1, 120.1, 110.1, 40.1, 40.1, 100.1, 90.1, 90.1, 50.1, 100.1]\n",
      "[0.1, 0.1, 0.1, 0.1, 0.1, 1.1, 1.1, 1.1, 1.1, 1.1, 0.1, 0.1, 0.1, 1.1, 3.1, 3.1, 1.1, 2.1, 2.1, 1.1, 0.1]\n",
      "[0.01, 0.02, 0.03, 0.04, 0.05, 0.06, 0.07, 0.08, 0.09, 0.1, 0.11, 0.12, 0.13, 0.14, 0.15, 0.16, 0.17, 0.18, 0.19, 0.2, 0.21]\n",
      "[187.6424, 187.662, 187.682, 187.6974, 187.7166, 187.8117, 187.8362, 187.7582, 187.7822, 187.7578, 188.0664, 187.8478, 187.8747, 192.5449, 192.8905, 192.9087, 197.5307, 194.6341, 194.6641, 197.2904, 198.7817]\n"
     ]
    }
   ],
   "source": [
    "print(kp)\n",
    "print(ki)\n",
    "print(delay)\n",
    "print(settlingTime)"
   ]
  },
  {
   "cell_type": "code",
   "execution_count": 5,
   "metadata": {},
   "outputs": [],
   "source": [
    "'''packages all the best kp & ki and their delay & settling time into an xlsx file\n",
    "'''\n",
    "raw_data = {'kp': kp, 'ki': ki, 'delay': delay, 'settling time': settlingTime}\n",
    "df = pd.DataFrame(raw_data, columns = ['kp', 'ki', 'delay', 'settling time'])\n",
    "df.to_excel('best_points.xlsx')"
   ]
  },
  {
   "cell_type": "code",
   "execution_count": null,
   "metadata": {},
   "outputs": [],
   "source": []
  }
 ],
 "metadata": {
  "kernelspec": {
   "display_name": "Python 3",
   "language": "python",
   "name": "python3"
  },
  "language_info": {
   "codemirror_mode": {
    "name": "ipython",
    "version": 3
   },
   "file_extension": ".py",
   "mimetype": "text/x-python",
   "name": "python",
   "nbconvert_exporter": "python",
   "pygments_lexer": "ipython3",
   "version": "3.6.8"
  }
 },
 "nbformat": 4,
 "nbformat_minor": 2
}
