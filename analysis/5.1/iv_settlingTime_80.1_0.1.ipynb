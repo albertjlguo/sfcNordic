{
 "cells": [
  {
   "cell_type": "code",
   "execution_count": 1,
   "metadata": {},
   "outputs": [],
   "source": [
    "import numpy as np\n",
    "import pandas as pd\n",
    "import csv"
   ]
  },
  {
   "cell_type": "code",
   "execution_count": 2,
   "metadata": {},
   "outputs": [],
   "source": [
    "with open('ori.csv', 'r') as f:\n",
    "    reader = csv.reader(f)\n",
    "    datas = list(reader)"
   ]
  },
  {
   "cell_type": "code",
   "execution_count": 3,
   "metadata": {},
   "outputs": [],
   "source": [
    "best_kp = 80.10\n",
    "best_ki = 0.10"
   ]
  },
  {
   "cell_type": "code",
   "execution_count": 4,
   "metadata": {},
   "outputs": [],
   "source": [
    "kp = []\n",
    "ki = []\n",
    "delay = []\n",
    "settling_time = []"
   ]
  },
  {
   "cell_type": "code",
   "execution_count": 5,
   "metadata": {},
   "outputs": [],
   "source": [
    "for data in datas:\n",
    "    if data[0] == str(best_kp) and data[1] == str(best_ki):\n",
    "        settlingTime = float(data[3])\n",
    "        settlingTime = \"{0:.4f}\".format(round(settlingTime,4))\n",
    "        settlingTime = float(settlingTime)\n",
    "        settling_time.append(settlingTime)\n",
    "\n",
    "        d = float(data[2])  #delay\n",
    "        d = \"{0:.2f}\".format(round(d,2))\n",
    "        d = float(d)\n",
    "        delay.append(d)\n",
    "\n",
    "        kp.append(best_kp)\n",
    "        ki.append(best_ki)"
   ]
  },
  {
   "cell_type": "code",
   "execution_count": 6,
   "metadata": {},
   "outputs": [
    {
     "name": "stdout",
     "output_type": "stream",
     "text": [
      "[80.1, 80.1, 80.1, 80.1, 80.1, 80.1, 80.1, 80.1, 80.1, 80.1, 80.1, 80.1, 80.1, 80.1, 80.1, 80.1, 80.1, 80.1, 80.1, 80.1, 80.1]\n",
      "[0.1, 0.1, 0.1, 0.1, 0.1, 0.1, 0.1, 0.1, 0.1, 0.1, 0.1, 0.1, 0.1, 0.1, 0.1, 0.1, 0.1, 0.1, 0.1, 0.1, 0.1]\n",
      "[0.01, 0.02, 0.03, 0.04, 0.05, 0.06, 0.07, 0.08, 0.09, 0.1, 0.11, 0.12, 0.13, 0.14, 0.15, 0.16, 0.17, 0.18, 0.19, 0.2, 0.21]\n",
      "[161.6982, 161.7283, 161.7581, 161.7838, 161.8163, 161.8391, 161.8745, 161.8959, 161.9352, 183.5257, 183.5557, 183.5857, 183.6157, 183.6457, 183.6757, 183.7057, 183.7157, 183.7457, 183.7738, 183.7857, 183.8138]\n"
     ]
    }
   ],
   "source": [
    "print(kp)\n",
    "print(ki)\n",
    "print(delay)\n",
    "print(settling_time)"
   ]
  },
  {
   "cell_type": "code",
   "execution_count": 7,
   "metadata": {},
   "outputs": [],
   "source": [
    "raw_data = {'kp': kp, 'ki': ki, 'delay (sec)': delay, 'Settling Time (sec)': settling_time}\n",
    "df = pd.DataFrame(raw_data, columns = ['kp', 'ki', 'delay (sec)', 'Settling Time (sec)'])\n",
    "df.to_excel('settlingTime_' + str(best_kp) + '_' + str(best_ki) + '.xlsx')"
   ]
  },
  {
   "cell_type": "code",
   "execution_count": null,
   "metadata": {},
   "outputs": [],
   "source": []
  }
 ],
 "metadata": {
  "kernelspec": {
   "display_name": "Python 3",
   "language": "python",
   "name": "python3"
  },
  "language_info": {
   "codemirror_mode": {
    "name": "ipython",
    "version": 3
   },
   "file_extension": ".py",
   "mimetype": "text/x-python",
   "name": "python",
   "nbconvert_exporter": "python",
   "pygments_lexer": "ipython3",
   "version": "3.6.8"
  }
 },
 "nbformat": 4,
 "nbformat_minor": 2
}
