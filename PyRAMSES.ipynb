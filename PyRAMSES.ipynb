{
 "cells": [
  {
   "cell_type": "markdown",
   "metadata": {},
   "source": [
    "# Run simple simulation\n",
    "## Load module"
   ]
  },
  {
   "cell_type": "code",
   "execution_count": 1,
   "metadata": {},
   "outputs": [],
   "source": [
    "import PyRAMSES"
   ]
  },
  {
   "cell_type": "markdown",
   "metadata": {},
   "source": [
    "## Load simulator"
   ]
  },
  {
   "cell_type": "code",
   "execution_count": 2,
   "metadata": {},
   "outputs": [],
   "source": [
    "ram = PyRAMSES.sim()"
   ]
  },
  {
   "cell_type": "markdown",
   "metadata": {},
   "source": [
    "## Load saved test-case"
   ]
  },
  {
   "cell_type": "code",
   "execution_count": 3,
   "metadata": {},
   "outputs": [
    {
     "name": "stdout",
     "output_type": "stream",
     "text": [
      "RAMSESWarning: The file init.trace already exists. It will be overwritten!\n",
      "RAMSESWarning: The file cont.trace already exists. It will be overwritten!\n",
      "RAMSESWarning: The file disc.trace already exists. It will be overwritten!\n"
     ]
    }
   ],
   "source": [
    "case = PyRAMSES.cfg('cmd.txt')"
   ]
  },
  {
   "cell_type": "markdown",
   "metadata": {},
   "source": [
    "## Add one observation more"
   ]
  },
  {
   "cell_type": "code",
   "execution_count": 4,
   "metadata": {},
   "outputs": [],
   "source": [
    "case.addRunObs('MS g2') # will plot in real-time the voltage on bus g1"
   ]
  },
  {
   "cell_type": "markdown",
   "metadata": {},
   "source": [
    "## Run simulation and pause at t=0 seconds"
   ]
  },
  {
   "cell_type": "code",
   "execution_count": null,
   "metadata": {},
   "outputs": [
    {
     "data": {
      "text/plain": [
       "0"
      ]
     },
     "execution_count": 5,
     "metadata": {},
     "output_type": "execute_result"
    }
   ],
   "source": [
    "ram.execSim(case,0.0)"
   ]
  },
  {
   "cell_type": "markdown",
   "metadata": {},
   "source": [
    "## Initialization"
   ]
  },
  {
   "cell_type": "code",
   "execution_count": null,
   "metadata": {},
   "outputs": [],
   "source": [
    "comp_type = ['SYN']\n",
    "comp_name = ['g2']\n",
    "obs_name = ['Omega']\n",
    "\n",
    "kp = 0.25\n",
    "ki = 0.15\n",
    "errSum = 0\n",
    "t=300\n",
    "nominal_frequency = 1.0\n",
    "list_of_gens = ['g14', 'g15', 'g16', 'g17', 'g18']"
   ]
  },
  {
   "cell_type": "markdown",
   "metadata": {},
   "source": [
    "## PI Control"
   ]
  },
  {
   "cell_type": "code",
   "execution_count": null,
   "metadata": {},
   "outputs": [
    {
     "name": "stdout",
     "output_type": "stream",
     "text": [
      "0.0\n",
      "0.0\n",
      "CHGPRM TOR g14 Tm0 0.0 0\n",
      "CHGPRM TOR g15 Tm0 0.0 0\n",
      "CHGPRM TOR g16 Tm0 0.0 0\n",
      "CHGPRM TOR g17 Tm0 0.0 0\n",
      "CHGPRM TOR g18 Tm0 0.0 0\n"
     ]
    }
   ],
   "source": [
    "for i in range(1,t):\n",
    "    actual_frequency = ram.getObs(comp_type,comp_name, obs_name)[0]\n",
    "    error = nominal_frequency - actual_frequency\n",
    "    print(error)\n",
    "    errSum += error * 1.0\n",
    "    print(errSum)\n",
    "    output = kp * error + ki * errSum\n",
    "    # loop to send measurements to generators g14-g18\n",
    "    for gen in list_of_gens:\n",
    "        command = 'CHGPRM TOR ' + gen + ' Tm0 ' + str(output/5) + ' 0'\n",
    "        print(command)\n",
    "        ram.addDisturb(ram.getSimTime()+0.01, command)\n",
    "    ram.contSim(i)"
   ]
  }
 ],
 "metadata": {
  "kernelspec": {
   "display_name": "Python 3",
   "language": "python",
   "name": "python3"
  },
  "language_info": {
   "codemirror_mode": {
    "name": "ipython",
    "version": 3
   },
   "file_extension": ".py",
   "mimetype": "text/x-python",
   "name": "python",
   "nbconvert_exporter": "python",
   "pygments_lexer": "ipython3",
   "version": "3.7.1"
  }
 },
 "nbformat": 4,
 "nbformat_minor": 2
}
