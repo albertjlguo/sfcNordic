{
 "cells": [
  {
   "cell_type": "markdown",
   "metadata": {},
   "source": [
    "# Initialization"
   ]
  },
  {
   "cell_type": "code",
   "execution_count": null,
   "metadata": {},
   "outputs": [],
   "source": [
    "import os\n",
    "import shutil\n",
    "import numpy as np"
   ]
  },
  {
   "cell_type": "markdown",
   "metadata": {},
   "source": [
    "# Run simple simulation\n",
    "## Load module"
   ]
  },
  {
   "cell_type": "code",
   "execution_count": null,
   "metadata": {},
   "outputs": [],
   "source": [
    "import PyRAMSES"
   ]
  },
  {
   "cell_type": "markdown",
   "metadata": {},
   "source": [
    "## Load simulator"
   ]
  },
  {
   "cell_type": "code",
   "execution_count": null,
   "metadata": {},
   "outputs": [],
   "source": [
    "# kp till 20.10\n",
    "# ki till 20.10\n",
    "# td from 0.01 to 0.21\n",
    "\n",
    "for kp in np.arange(0.10, 0.20, 0.5):\n",
    "    kp = \"{0:.2f}\".format(round(kp,2))\n",
    "    for ki in np.arange(10.10, 20.20, 0.5):\n",
    "        ki = \"{0:.2f}\".format(round(ki,2))\n",
    "        for td in np.arange(0.01, 0.02, 0.02):\n",
    "            td = \"{0:.2f}\".format(round(td,2))\n",
    "            print(\"kp = \" + str(kp))\n",
    "            print(\"ki = \" + str(ki))\n",
    "            print(\"td = \" + str(td))\n",
    "\n",
    "            ram = PyRAMSES.sim()\n",
    "\n",
    "            # Load saved test-case\n",
    "            case = PyRAMSES.cfg('cmd.txt')\n",
    "\n",
    "            # Add one observation more\n",
    "            case.addRunObs('MS g2') # will plot in real-time the voltage on bus g1\n",
    "\n",
    "            # Run simulation and pause at t=15 seconds\n",
    "            start_time=15\n",
    "            ram.execSim(case,start_time)\n",
    "            comp_type = ['TOR']\n",
    "            comp_name = ['g14']\n",
    "            prm_name = ['Tm0']\n",
    "            ram.getPrm(comp_type, comp_name, prm_name)\n",
    "\n",
    "            # Initialization\n",
    "            comp_type = ['SYN']\n",
    "            comp_name = ['g2']\n",
    "            obs_name = ['Omega']\n",
    "            errSum = 0.0\n",
    "            t=500\n",
    "            nominal_frequency = 1.0\n",
    "            list_of_gens = ['g6', 'g7', 'g14', 'g15', 'g16']\n",
    "\n",
    "            # Name of bus 12 for checking voltage\n",
    "            busNames = ['g12','4032']\n",
    "            # print(ram.getBusVolt(busNames)[0])\n",
    "\n",
    "            # PI Control\n",
    "            for i in np.arange(start_time+1,t):\n",
    "                # print(\"i = \" + str(i))\n",
    "                actual_frequency = ram.getObs(comp_type,comp_name, obs_name)[0] # g2\n",
    "                error = nominal_frequency - actual_frequency\n",
    "                if abs(error)<0.00001:\n",
    "                    error = 0.0\n",
    "                # print(\"error = \" + str(error))\n",
    "\n",
    "                errSum += error * 1.0\n",
    "                # print(\"errSum = \" + str(errSum))\n",
    "                output = float(kp) * float(error) + float(ki) * float(errSum)\n",
    "                if abs(output)<0.00001:\n",
    "                    output = 0.0\n",
    "                # print(\"output = \" + str(output))\n",
    "\n",
    "                # loop to send measurements to generators g6, g7, g14, g15, g16\n",
    "                for gen in list_of_gens:\n",
    "                    command = 'CHGPRM TOR ' + gen + ' Tm0 ' + str(output/5.0) + ' 0'\n",
    "                    # print(str(ram.getSimTime()+0.01)+' '+command)\n",
    "                    td = float(td)\n",
    "                    ram.addDisturb(ram.getSimTime() + td, command)\n",
    "                '''\n",
    "                if ram.getBusVolt(busNames)[0] <= 0.81:\n",
    "                    print(str(ram.getBusVolt(busNames)[0]) + \" <= 0.81, break, at time = \" + str(i))\n",
    "                    break\n",
    "                if ram.getBusVolt(busNames)[1] >= 1.15:\n",
    "                    print(str(ram.getBusVolt(busNames)[1]) + \" >= 1.15, break, at time = \" + str(i))\n",
    "                    break\n",
    "                else:\n",
    "                    ram.contSim(i) # under the for loop (for gen in list_of_gens)\n",
    "\n",
    "                '''\n",
    "                \n",
    "                \n",
    "                \n",
    "            # Kill gnuplot\n",
    "            os.system(\"TASKKILL /F /IM gnuplot.exe /T\")\n",
    "            print(\"kill successfully\")\n",
    "\n",
    "            # End simulation and exit\n",
    "            ram.endSim()\n",
    "            print(\"end simulation and exit successfully\")\n",
    "\n",
    "            # Open, read and re-write contents to another file (in public folder)\n",
    "            with open(\"temp_display.cur\") as f:\n",
    "                with open(\"temp_display_.cur\", \"w\") as f1:\n",
    "                    for line in f:\n",
    "                        if \"error\" not in line:\n",
    "                            f1.write(line)\n",
    "\n",
    "            # Copy the file (in public folder) to another prepared folder\n",
    "            shutil.copy(\"temp_display_.cur\", '/Users/el17jg/Desktop/GitHub/Nordic-test-system/curfiles')\n",
    "            print(\"copy successfully\")\n",
    "\n",
    "            # Rename the file in new folder\n",
    "            td = \"{0:.2f}\".format(round(td,2))\n",
    "            os.rename('/Users/el17jg/Desktop/GitHub/Nordic-test-system/curfiles/temp_display_.cur', \n",
    "                      r'/Users/el17jg/Desktop/GitHub/Nordic-test-system/curfiles/temp_display_' + str(kp) + '-' + str(ki) + '-' + str(td) + 's' + '.cur')\n",
    "            print(\"rename successfully\")\n",
    "\n",
    "            # Delete the file in public folder\n",
    "            os.unlink(\"temp_display_.cur\")\n",
    "            print(\"delete successfully\\n\")"
   ]
  }
 ],
 "metadata": {
  "kernelspec": {
   "display_name": "Python 3",
   "language": "python",
   "name": "python3"
  },
  "language_info": {
   "codemirror_mode": {
    "name": "ipython",
    "version": 3
   },
   "file_extension": ".py",
   "mimetype": "text/x-python",
   "name": "python",
   "nbconvert_exporter": "python",
   "pygments_lexer": "ipython3",
   "version": "3.7.2"
  }
 },
 "nbformat": 4,
 "nbformat_minor": 2
}
