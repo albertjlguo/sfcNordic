{
 "cells": [
  {
   "cell_type": "markdown",
   "metadata": {},
   "source": [
    "# Run simple simulation\n",
    "## Load module"
   ]
  },
  {
   "cell_type": "code",
   "execution_count": 1,
   "metadata": {},
   "outputs": [],
   "source": [
    "import PyRAMSES"
   ]
  },
  {
   "cell_type": "markdown",
   "metadata": {},
   "source": [
    "## Load simulator"
   ]
  },
  {
   "cell_type": "code",
   "execution_count": 2,
   "metadata": {},
   "outputs": [],
   "source": [
    "ram = PyRAMSES.sim()"
   ]
  },
  {
   "cell_type": "markdown",
   "metadata": {},
   "source": [
    "## Load saved test-case"
   ]
  },
  {
   "cell_type": "code",
   "execution_count": 3,
   "metadata": {},
   "outputs": [
    {
     "name": "stdout",
     "output_type": "stream",
     "text": [
      "RAMSESWarning: The file init.trace already exists. It will be overwritten!\n",
      "RAMSESWarning: The file cont.trace already exists. It will be overwritten!\n",
      "RAMSESWarning: The file disc.trace already exists. It will be overwritten!\n"
     ]
    }
   ],
   "source": [
    "case = PyRAMSES.cfg('cmd.txt')"
   ]
  },
  {
   "cell_type": "markdown",
   "metadata": {},
   "source": [
    "## Add one observation more"
   ]
  },
  {
   "cell_type": "code",
   "execution_count": 4,
   "metadata": {},
   "outputs": [],
   "source": [
    "case.addRunObs('MS g2') # will plot in real-time the voltage on bus g1"
   ]
  },
  {
   "cell_type": "markdown",
   "metadata": {},
   "source": [
    "## Run simulation and pause at t=15 seconds"
   ]
  },
  {
   "cell_type": "code",
   "execution_count": 5,
   "metadata": {},
   "outputs": [
    {
     "data": {
      "text/plain": [
       "1.000002941834732"
      ]
     },
     "execution_count": 5,
     "metadata": {},
     "output_type": "execute_result"
    }
   ],
   "source": [
    "start_time=15\n",
    "ram.execSim(case,start_time)\n",
    "comp_type = ['TOR']\n",
    "comp_name = ['g14']\n",
    "prm_name = ['Tm0']\n",
    "ram.getPrm(comp_type, comp_name, prm_name)"
   ]
  },
  {
   "cell_type": "markdown",
   "metadata": {},
   "source": [
    "## Initialization"
   ]
  },
  {
   "cell_type": "code",
   "execution_count": 6,
   "metadata": {},
   "outputs": [],
   "source": [
    "comp_type = ['SYN']\n",
    "comp_name = ['g2']\n",
    "obs_name = ['Omega']\n",
    "\n",
    "kp = 30.0\n",
    "ki = 10.0\n",
    "\n",
    "errSum = 0\n",
    "t=500\n",
    "nominal_frequency = 1.0\n",
    "list_of_gens = ['g14', 'g15', 'g16', 'g17', 'g18']"
   ]
  },
  {
   "cell_type": "markdown",
   "metadata": {},
   "source": [
    "## PI Control"
   ]
  },
  {
   "cell_type": "code",
   "execution_count": 7,
   "metadata": {},
   "outputs": [],
   "source": [
    "for i in range(start_time+1,t):\n",
    "    \n",
    "    #print(\"i = \" + str(i))\n",
    "    actual_frequency = ram.getObs(comp_type,comp_name, obs_name)[0]\n",
    "    error = nominal_frequency - actual_frequency\n",
    "    if abs(error)<0.00001:\n",
    "        error = 0.0\n",
    "    #print(\"error = \" + str(error))\n",
    "    errSum += error * 1.0\n",
    "    #print(\"errSum = \" + str(errSum))\n",
    "    output = kp * error + ki * errSum\n",
    "    if abs(output)<0.00001:\n",
    "        output = 0.0\n",
    "    # loop to send measurements to generators g14-g18\n",
    "    for gen in list_of_gens:\n",
    "        command = 'CHGPRM TOR ' + gen + ' Tm0 ' + str(output/5.0) + ' 0'\n",
    "        #print(str(ram.getSimTime()+0.01)+' '+command)\n",
    "        ram.addDisturb(ram.getSimTime()+0.01, command)\n",
    "    ram.contSim(i)"
   ]
  },
  {
   "cell_type": "markdown",
   "metadata": {},
   "source": [
    "## Run simulation till the end"
   ]
  },
  {
   "cell_type": "code",
   "execution_count": 8,
   "metadata": {},
   "outputs": [
    {
     "data": {
      "text/plain": [
       "0"
      ]
     },
     "execution_count": 8,
     "metadata": {},
     "output_type": "execute_result"
    }
   ],
   "source": [
    "ram.contSim(ram.getInfTime())"
   ]
  }
 ],
 "metadata": {
  "kernelspec": {
   "display_name": "Python 3",
   "language": "python",
   "name": "python3"
  },
  "language_info": {
   "codemirror_mode": {
    "name": "ipython",
    "version": 3
   },
   "file_extension": ".py",
   "mimetype": "text/x-python",
   "name": "python",
   "nbconvert_exporter": "python",
   "pygments_lexer": "ipython3",
   "version": "3.7.1"
  }
 },
 "nbformat": 4,
 "nbformat_minor": 2
}
