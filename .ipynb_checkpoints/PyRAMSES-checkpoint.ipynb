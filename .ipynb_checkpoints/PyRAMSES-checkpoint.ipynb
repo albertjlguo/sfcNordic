{
 "cells": [
  {
   "cell_type": "markdown",
   "metadata": {},
   "source": [
    "# Initialization"
   ]
  },
  {
   "cell_type": "code",
   "execution_count": 1,
   "metadata": {},
   "outputs": [],
   "source": [
    "from shutil import copyfile\n",
    "import os\n",
    "import shutil"
   ]
  },
  {
   "cell_type": "markdown",
   "metadata": {},
   "source": [
    "# Run simple simulation\n",
    "## Load module"
   ]
  },
  {
   "cell_type": "code",
   "execution_count": null,
   "metadata": {},
   "outputs": [],
   "source": [
    "import PyRAMSES"
   ]
  },
  {
   "cell_type": "markdown",
   "metadata": {},
   "source": [
    "## Load simulator"
   ]
  },
  {
   "cell_type": "code",
   "execution_count": null,
   "metadata": {},
   "outputs": [
    {
     "name": "stdout",
     "output_type": "stream",
     "text": [
      "kp = 0\n",
      "ki = 0\n",
      "RAMSESWarning: The file init.trace already exists. It will be overwritten!\n",
      "RAMSESWarning: The file cont.trace already exists. It will be overwritten!\n",
      "RAMSESWarning: The file disc.trace already exists. It will be overwritten!\n"
     ]
    }
   ],
   "source": [
    "for ki in range(2):\n",
    "    for kp in range(2):\n",
    "        \n",
    "        print(\"kp = \" + str(kp))\n",
    "        print(\"ki = \" + str(ki))\n",
    "        \n",
    "        ram = PyRAMSES.sim()\n",
    "        \n",
    "        # Load saved test-case\n",
    "        case = PyRAMSES.cfg('cmd.txt')\n",
    "       \n",
    "        # Add one observation more\n",
    "        case.addRunObs('MS g2') # will plot in real-time the voltage on bus g1\n",
    "        \n",
    "        # Run simulation and pause at t=15 seconds\n",
    "        start_time=15\n",
    "        ram.execSim(case,start_time)\n",
    "        comp_type = ['TOR']\n",
    "        comp_name = ['g14']\n",
    "        prm_name = ['Tm0']\n",
    "        ram.getPrm(comp_type, comp_name, prm_name)\n",
    "        \n",
    "        # Initialization\n",
    "        comp_type = ['SYN']\n",
    "        comp_name = ['g2']\n",
    "        obs_name = ['Omega']\n",
    "        errSum = 0\n",
    "        t=240\n",
    "        nominal_frequency = 1.0\n",
    "        list_of_gens = ['g14', 'g15', 'g16', 'g17', 'g18']\n",
    "        \n",
    "        # PI Control\n",
    "        for i in range(start_time+1,t):\n",
    "            #print(\"i = \" + str(i))\n",
    "            actual_frequency = ram.getObs(comp_type,comp_name, obs_name)[0]\n",
    "            error = nominal_frequency - actual_frequency\n",
    "            if abs(error)<0.00001:\n",
    "                error = 0.0\n",
    "            #print(\"error = \" + str(error))\n",
    "            errSum += error * 1.0\n",
    "            #print(\"errSum = \" + str(errSum))\n",
    "            output = kp * error + ki * errSum\n",
    "            if abs(output)<0.00001:\n",
    "                output = 0.0\n",
    "            # loop to send measurements to generators g14-g18\n",
    "            for gen in list_of_gens:\n",
    "                command = 'CHGPRM TOR ' + gen + ' Tm0 ' + str(output/5.0) + ' 0'\n",
    "                #print(str(ram.getSimTime()+0.01)+' '+command)\n",
    "                ram.addDisturb(ram.getSimTime()+0.01, command)\n",
    "            ram.contSim(i)\n",
    "            # Run simulation till the end\n",
    "            ram.contSim(ram.getInfTime())\n",
    "            \n",
    "        # Rename cur file\n",
    "        os.rename(r'\\Users\\el17jg\\Desktop\\GitHub\\Nordic-test-system\\temp_display.cur', r'\\Users\\el17jg\\Desktop\\GitHub\\Nordic-test-system\\temp_display_' + str(kp) + '-' + str(ki) + '.cur')\n",
    "            \n",
    "        # Copy cur file to folder\n",
    "        shutil.move(r'\\Users\\el17jg\\Desktop\\GitHub\\Nordic-test-system\\temp_display_' + str(kp) + '-' + str(ki) + '.cur', r'\\Users\\el17jg\\Desktop\\GitHub\\Nordic-test-system\\curfiles')\n",
    "            "
   ]
  }
 ],
 "metadata": {
  "kernelspec": {
   "display_name": "Python 3",
   "language": "python",
   "name": "python3"
  },
  "language_info": {
   "codemirror_mode": {
    "name": "ipython",
    "version": 3
   },
   "file_extension": ".py",
   "mimetype": "text/x-python",
   "name": "python",
   "nbconvert_exporter": "python",
   "pygments_lexer": "ipython3",
   "version": "3.7.1"
  }
 },
 "nbformat": 4,
 "nbformat_minor": 2
}
